{
 "cells": [
  {
   "cell_type": "markdown",
   "id": "513306da-499c-458a-9163-315306e5d57e",
   "metadata": {},
   "source": [
    "#answer 1"
   ]
  },
  {
   "cell_type": "code",
   "execution_count": 15,
   "id": "2f43bc0a-e37e-4393-b607-d0c89225ccd2",
   "metadata": {},
   "outputs": [],
   "source": [
    "class pwskills:\n",
    "    def welcome_msg (self):\n",
    "        print (\"welcome to skills\")"
   ]
  },
  {
   "cell_type": "code",
   "execution_count": 16,
   "id": "793329ab-4e0f-4ca7-ba3d-c601d65be210",
   "metadata": {},
   "outputs": [],
   "source": [
    "sultan = pwskills()"
   ]
  },
  {
   "cell_type": "code",
   "execution_count": 17,
   "id": "4ba89de3-1d7e-459a-b630-681dc695b9c6",
   "metadata": {},
   "outputs": [
    {
     "name": "stdout",
     "output_type": "stream",
     "text": [
      "<class '__main__.pwskills'>\n"
     ]
    }
   ],
   "source": [
    "print(type(sultan))"
   ]
  },
  {
   "cell_type": "code",
   "execution_count": 18,
   "id": "1f893cc5-42e7-4739-abb0-d439a09f758c",
   "metadata": {},
   "outputs": [
    {
     "name": "stdout",
     "output_type": "stream",
     "text": [
      "welcome to skills\n"
     ]
    }
   ],
   "source": [
    "sultan.welcome_msg()"
   ]
  },
  {
   "cell_type": "code",
   "execution_count": 19,
   "id": "91b86be1-f53c-4e42-ac85-485a7e92b7e1",
   "metadata": {},
   "outputs": [],
   "source": [
    "farman = (pwskills)"
   ]
  },
  {
   "cell_type": "markdown",
   "id": "e5098278-017b-4513-8e5d-f996b5a19f75",
   "metadata": {},
   "source": [
    "#answer no 2"
   ]
  },
  {
   "cell_type": "code",
   "execution_count": 21,
   "id": "3f5f48b2-f419-4254-8381-6addf223c10c",
   "metadata": {},
   "outputs": [
    {
     "ename": "SyntaxError",
     "evalue": "cannot assign to literal here. Maybe you meant '==' instead of '='? (2942011088.py, line 1)",
     "output_type": "error",
     "traceback": [
      "\u001b[0;36m  Cell \u001b[0;32mIn[21], line 1\u001b[0;36m\u001b[0m\n\u001b[0;31m    1 = encapsulation\u001b[0m\n\u001b[0m    ^\u001b[0m\n\u001b[0;31mSyntaxError\u001b[0m\u001b[0;31m:\u001b[0m cannot assign to literal here. Maybe you meant '==' instead of '='?\n"
     ]
    }
   ],
   "source": [
    "1 = encapsulation\n",
    "2 = inheritance\n",
    "3 = polymorphism\n",
    "4 = abstraction"
   ]
  },
  {
   "cell_type": "markdown",
   "id": "155615c2-5a1e-463c-9562-142b5b4b0a50",
   "metadata": {},
   "source": [
    "# answer 3"
   ]
  },
  {
   "cell_type": "code",
   "execution_count": 22,
   "id": "d91522dc-3410-44dd-9a0f-22864536eb30",
   "metadata": {},
   "outputs": [],
   "source": [
    "class Car:\n",
    "    def __init__(self, make, model, year):\n",
    "        self.make = make\n",
    "        self.model = model\n",
    "        self.year = year\n",
    "        self.mileage = 0\n",
    "        \n",
    "    def drive(self, miles):\n",
    "        self.mileage += miles\n",
    "\n",
    "my_car = Car('Toyota', 'Corolla', 2022)\n"
   ]
  },
  {
   "cell_type": "markdown",
   "id": "40a53e51-a6be-4917-aa85-ba039c483c2c",
   "metadata": {},
   "source": [
    "# answer 4"
   ]
  },
  {
   "cell_type": "code",
   "execution_count": null,
   "id": "efa61857-b585-4885-b151-109ceead76e4",
   "metadata": {},
   "outputs": [],
   "source": [
    "self used in oops = In Python self is a special parameter used to refer to the current instance of a class.\n",
    "It is used as the first parameter of every instance method defined in a class.\n",
    "\n",
    "When a method is called on an object, the object itself is passed as the first argument to the method,\n",
    "and this argument is usually named self (although it can technically be named anything). \n",
    "The self parameter is used to access the attributes and methods of the current instance."
   ]
  },
  {
   "cell_type": "markdown",
   "id": "733b06a8-1169-4b59-8865-4e12814d6e83",
   "metadata": {},
   "source": [
    "#answer 5"
   ]
  },
  {
   "cell_type": "code",
   "execution_count": null,
   "id": "d20edca7-5b0c-40a6-a739-01ed388d256c",
   "metadata": {},
   "outputs": [],
   "source": [
    "Inheritance is a fundamental concept in Object-Oriented Programming (OOP)\n",
    "that allows one class to inherit properties and methods from another class.\n",
    "The class that is being inherited from is known as the parent class or superclass,\n",
    "and the class that is inheriting is known as the child class or subclass.\n",
    "\n",
    "There are three types of inheritance in Python:\n",
    "\n",
    "Single inheritance: In single inheritance, a subclass inherits from a single parent class\n",
    "\n",
    "Multiple inheritance: subclass inherits from two or more parent classes. (child class)\n",
    "\n",
    "Multilevel inheritance: subclass inherits from a parent class,\n",
    "which in turn inherits from another parent class. This creates a hierarchy of inheritance."
   ]
  }
 ],
 "metadata": {
  "kernelspec": {
   "display_name": "Python 3 (ipykernel)",
   "language": "python",
   "name": "python3"
  },
  "language_info": {
   "codemirror_mode": {
    "name": "ipython",
    "version": 3
   },
   "file_extension": ".py",
   "mimetype": "text/x-python",
   "name": "python",
   "nbconvert_exporter": "python",
   "pygments_lexer": "ipython3",
   "version": "3.10.8"
  }
 },
 "nbformat": 4,
 "nbformat_minor": 5
}
